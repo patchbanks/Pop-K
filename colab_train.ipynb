{
  "cells": [
    {
      "cell_type": "markdown",
      "metadata": {
        "id": "7JFIiAsrfvJy"
      },
      "source": [
        "\n",
        "## Setup"
      ]
    },
    {
      "cell_type": "code",
      "execution_count": null,
      "metadata": {
        "id": "8XxroeheW5Z7"
      },
      "outputs": [],
      "source": [
        "!git clone https://github.com/patchbanks/Pop-K.git\n",
        "%cd /content/Pop-K"
      ]
    },
    {
      "cell_type": "code",
      "execution_count": null,
      "metadata": {
        "id": "RDavUrBsgKIV"
      },
      "outputs": [],
      "source": [
        "!pip install -q lightning-fabric pretty_midi wandb ninja"
      ]
    },
    {
      "cell_type": "markdown",
      "metadata": {
        "id": "IOE4r9eVVJ3f"
      },
      "source": [
        "## Process MIDI"
      ]
    },
    {
      "cell_type": "code",
      "execution_count": null,
      "metadata": {
        "id": "0z50PDf9VJ3f"
      },
      "outputs": [],
      "source": [
        "!python data/midi_to_text.py  \\\n",
        "    --midi_dir='data/midi_data' \\\n",
        "    --dataset_name='pop_k_test'"
      ]
    },
    {
      "cell_type": "markdown",
      "metadata": {
        "id": "I4lz-3maeIwY"
      },
      "source": [
        "## Training Options"
      ]
    },
    {
      "cell_type": "code",
      "execution_count": null,
      "metadata": {
        "cellView": "form",
        "id": "fuCw5_ASwMud"
      },
      "outputs": [],
      "source": [
        "from shutil import copy\n",
        "import os\n",
        "\n",
        "base_model_name = \"model\" #@param {type: \"string\"}\n",
        "base_model_path = \"models/{base_model_name}*.pth\"\n",
        "tuned_model_name = base_model_name\n",
        "output_path = 'checkpoints'\n",
        "\n",
        "\n",
        "def training_options():\n",
        "    datafile = \"data/train_data/pop_k_test.txt\" #@param {type: \"string\"}\n",
        "    lr_init = 0.00001 #@param {type: \"number\"}\n",
        "    lr_final = lr_init\n",
        "    n_epoch = 1 #@param {type: \"number\"}\n",
        "    epoch_save_frequency = 20 #@param {type: \"number\"}\n",
        "    batch_size = 4 #@param {type: \"number\"}\n",
        "    n_layer = 12 #@param {type: \"number\"}\n",
        "    n_embd = 768 #@param {type: \"number\"}\n",
        "    ctx_len = 2048 #@param {type: \"number\"}\n",
        "    LOAD_MODEL = False # @param {type:\"boolean\"}\n",
        "    EPOCH_BEGIN = 0 #@param {type: \"number\"}\n",
        "    epoch_save_path = f\"{output_path}/{tuned_model_name}\"\n",
        "\n",
        "    return locals()\n",
        "\n",
        "def model_options():\n",
        "    T_MAX = 2048 #@param {type: \"number\"}\n",
        "    return locals()\n",
        "\n",
        "def env_vars():\n",
        "    RWKV_FLOAT_MODE = 'fp16' # ['fp16', 'bf16', 'bf32'] {type:\"string\"}\n",
        "    RWKV_DEEPSPEED = '0' # ['0', '1'] {type:\"string\"}\n",
        "    return {f\"os.environ['{key}']\": value for key, value in locals().items()}\n",
        "\n",
        "def replace_lines(file_name, to_replace):\n",
        "    with open(file_name, 'r') as f:\n",
        "        lines = f.readlines()\n",
        "    with open(f'{file_name}.tmp', 'w') as f:\n",
        "        for line in lines:\n",
        "            key = line.split(\" =\")[0]\n",
        "            if key.strip() in to_replace:\n",
        "                value = to_replace[key.strip()]\n",
        "                if isinstance(value, str):\n",
        "                    f.write(f'{key} = \"{value}\"\\n')\n",
        "                else:\n",
        "                    f.write(f'{key} = {value}\\n')\n",
        "            else:\n",
        "                f.write(line)\n",
        "    copy(f'{file_name}.tmp', file_name)\n",
        "    os.remove(f'{file_name}.tmp')\n",
        "\n",
        "values = training_options()\n",
        "values.update(env_vars())\n",
        "replace_lines('train.py', values)\n",
        "replace_lines('src/model.py', model_options())"
      ]
    },
    {
      "cell_type": "markdown",
      "metadata": {
        "id": "-N67o9XIlZGw"
      },
      "source": [
        "## Train"
      ]
    },
    {
      "cell_type": "code",
      "execution_count": null,
      "metadata": {
        "id": "CfU92Hn30pbn"
      },
      "outputs": [],
      "source": [
        "!python train.py"
      ]
    },
    {
      "cell_type": "markdown",
      "metadata": {
        "id": "ILrcu9NoeYOe"
      },
      "source": [
        "## Generate"
      ]
    },
    {
      "cell_type": "code",
      "execution_count": null,
      "metadata": {
        "id": "TqITeIr5ecbO"
      },
      "outputs": [],
      "source": [
        "!python generate.py \\\n",
        "    --model_name checkpoints/model \\\n",
        "    --num_samples 10 \\\n",
        "    --temperature 1.0\\\n",
        "    --top_k 20"
      ]
    },
    {
      "cell_type": "code",
      "execution_count": null,
      "metadata": {
        "cellView": "form",
        "id": "dq2OXgCRfwKr"
      },
      "outputs": [],
      "source": [
        "#@title Zip MIDI\n",
        "import zipfile\n",
        "import os\n",
        "\n",
        "base_name = input(\"Enter zip file name: \")\n",
        "zip_file_path = f'/content/{base_name}.zip'\n",
        "\n",
        "if os.path.exists(zip_file_path):\n",
        "    count = 1\n",
        "    while os.path.exists(zip_file_path):\n",
        "        zip_file_path = f'/content/{base_name}-{count}.zip'\n",
        "        count += 1\n",
        "\n",
        "midi_output_dir = '/content/Pop-K/midi_output'\n",
        "\n",
        "with zipfile.ZipFile(zip_file_path, 'w') as zipf:\n",
        "    for root, _, files in os.walk(midi_output_dir):\n",
        "        for file in files:\n",
        "            file_path = os.path.join(root, file)\n",
        "            arcname = os.path.join(base_name, file)\n",
        "            zipf.write(file_path, arcname)\n",
        "\n",
        "print('Saved to zip:', zip_file_path)\n"
      ]
    },
    {
      "cell_type": "markdown",
      "metadata": {
        "id": "_s2K4o2lgLUK"
      },
      "source": [
        "## Import MIDI"
      ]
    },
    {
      "cell_type": "code",
      "execution_count": null,
      "metadata": {
        "cellView": "form",
        "id": "n1_p0FljgOMS"
      },
      "outputs": [],
      "source": [
        "import zipfile\n",
        "import os\n",
        "import shutil\n",
        "\n",
        "import_zip_path = '/content/Archive.zip' #@param {type: \"string\"}\n",
        "temp_folder = '/content/temp' #@param {type: \"string\"}\n",
        "dst_folder = 'data/midi_data' #@param {type: \"string\"}\n",
        "\n",
        "with zipfile.ZipFile(import_zip_path, 'r') as zip_ref:\n",
        "    zip_ref.extractall(temp_folder)\n",
        "\n",
        "temp_path = os.path.join(temp_folder, '__MACOSX')\n",
        "if os.path.exists(temp_path) and os.path.isdir(temp_path):\n",
        "    shutil.rmtree(temp_path)\n",
        "\n",
        "os.makedirs(dst_folder, exist_ok=True)\n",
        "\n",
        "for root, dirs, files in os.walk(temp_folder):\n",
        "    for file in files:\n",
        "        if file.endswith('.mid') or file.endswith('.MID'):\n",
        "            src_file = os.path.join(root, file)\n",
        "            dst_file = os.path.join(dst_folder, file)\n",
        "\n",
        "            # Avoid overwriting files\n",
        "            if not os.path.exists(dst_file):\n",
        "                shutil.move(src_file, dst_file)\n",
        "                print(f\"Moved {src_file} to {dst_file}\")\n",
        "            else:\n",
        "                print(f\"File {dst_file} already exists. Skipping move.\")\n"
      ]
    }
  ],
  "metadata": {
    "accelerator": "GPU",
    "colab": {
      "collapsed_sections": [
        "7JFIiAsrfvJy",
        "IOE4r9eVVJ3f",
        "I4lz-3maeIwY",
        "-N67o9XIlZGw",
        "ILrcu9NoeYOe",
        "_s2K4o2lgLUK"
      ],
      "gpuType": "T4",
      "provenance": []
    },
    "kernelspec": {
      "display_name": "Python 3",
      "name": "python3"
    },
    "language_info": {
      "name": "python"
    }
  },
  "nbformat": 4,
  "nbformat_minor": 0
}