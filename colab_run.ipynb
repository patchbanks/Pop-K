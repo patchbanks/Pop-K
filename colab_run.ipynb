{
  "cells": [
    {
      "cell_type": "markdown",
      "metadata": {
        "id": "_mGGie8jPsmI"
      },
      "source": [
        "## Install"
      ]
    },
    {
      "cell_type": "code",
      "execution_count": null,
      "metadata": {
        "id": "6-78-Ky5NzJa"
      },
      "outputs": [],
      "source": [
        "!git clone https://github.com/patchbanks/Pop-K.git\n",
        "%cd /content/Pop-K"
      ]
    },
    {
      "cell_type": "code",
      "source": [
        "import os\n",
        "\n",
        "model_dir = \"/content/Pop-K/checkpoints\"\n",
        "os.makedirs(model_dir, exist_ok=True)\n",
        "!wget -O \"{model_dir}/model.pth\" \"https://huggingface.co/patchbanks/Pop-K/resolve/main/model.pth?download=true\"\n",
        "\n",
        "sf2_dir = \"/content/Pop-K/sf2\"\n",
        "os.makedirs(sf2_dir, exist_ok=True)\n",
        "\n",
        "!wget -O \"{sf2_dir}/piano.sf2\" \"https://huggingface.co/patchbanks/Pop-K/resolve/main/sf2/piano.sf2?download=true\""
      ],
      "metadata": {
        "id": "utFGlnFQqiyg"
      },
      "execution_count": null,
      "outputs": []
    },
    {
      "cell_type": "code",
      "execution_count": null,
      "metadata": {
        "id": "NIW_CgRgOJzh"
      },
      "outputs": [],
      "source": [
        "!apt-get install fluidsynth=2.2.5-1\n",
        "!pip install pretty_midi\n",
        "!pip install -q ninja\n",
        "!pip install gradio\n",
        "!pip install pedalboard"
      ]
    },
    {
      "cell_type": "code",
      "source": [
        "!pip install -q ninja"
      ],
      "metadata": {
        "id": "VPDfZdGasE0k"
      },
      "execution_count": null,
      "outputs": []
    },
    {
      "cell_type": "code",
      "source": [
        "!nvidia-smi 2>/dev/null || echo \"No GPU available\"  # check GPU"
      ],
      "metadata": {
        "id": "Mh3VLpPF9uHG"
      },
      "execution_count": null,
      "outputs": []
    },
    {
      "cell_type": "markdown",
      "metadata": {
        "id": "p-Ym81WNPxjV"
      },
      "source": [
        "## Pop-K"
      ]
    },
    {
      "cell_type": "code",
      "execution_count": null,
      "metadata": {
        "id": "bzoeihG3Y1sx"
      },
      "outputs": [],
      "source": [
        "%%time\n",
        "!python generate.py \\\n",
        "    --model_name checkpoints/model \\\n",
        "    --num_samples 10 \\\n",
        "    --temperature 1.0\\\n",
        "    --top_k 20"
      ]
    },
    {
      "cell_type": "code",
      "execution_count": null,
      "metadata": {
        "cellView": "form",
        "id": "2pABHJ7sT2oO"
      },
      "outputs": [],
      "source": [
        "#@title Zip MIDI\n",
        "import zipfile\n",
        "import os\n",
        "\n",
        "base_name = input(\"Enter zip file name: \")\n",
        "zip_file_path = f'/content/{base_name}.zip'\n",
        "\n",
        "if os.path.exists(zip_file_path):\n",
        "    count = 1\n",
        "    while os.path.exists(zip_file_path):\n",
        "        zip_file_path = f'/content/{base_name}-{count}.zip'\n",
        "        count += 1\n",
        "\n",
        "midi_output_dir = '/content/Pop-K/midi_output'\n",
        "\n",
        "with zipfile.ZipFile(zip_file_path, 'w') as zipf:\n",
        "    for root, _, files in os.walk(midi_output_dir):\n",
        "        for file in files:\n",
        "            file_path = os.path.join(root, file)\n",
        "            arcname = os.path.join(base_name, file)\n",
        "            zipf.write(file_path, arcname)\n",
        "\n",
        "print('Saved to zip:', zip_file_path)\n"
      ]
    },
    {
      "cell_type": "markdown",
      "metadata": {
        "id": "YIb-FHWRXzzv"
      },
      "source": [
        "User Guide\n",
        "- Run this script for generating bulk MIDI files\n",
        "- 100 samples may take ~20 minutes on GPU\n",
        "- midi_output directory will be deleted with every new run\n"
      ]
    },
    {
      "cell_type": "markdown",
      "source": [
        "## Gradio"
      ],
      "metadata": {
        "id": "-n9pn8EenGZB"
      }
    },
    {
      "cell_type": "markdown",
      "source": [
        "User Guide\n",
        "- Run to launch Gradio in the browser\n",
        "- Optional: Upload SF2 file to generate with another instrument\n",
        "- SF2 file must use preset=0, bank=0. File sizes over 100 MB may not upload\n",
        "- Adjust **Output Level** if SF2 causes distortion"
      ],
      "metadata": {
        "id": "87u7p8I75P9H"
      }
    },
    {
      "cell_type": "code",
      "source": [
        "!python app.py"
      ],
      "metadata": {
        "id": "h3spURs-nJYI"
      },
      "execution_count": null,
      "outputs": []
    }
  ],
  "metadata": {
    "accelerator": "GPU",
    "colab": {
      "collapsed_sections": [
        "_mGGie8jPsmI",
        "p-Ym81WNPxjV",
        "-n9pn8EenGZB"
      ],
      "gpuType": "T4",
      "provenance": []
    },
    "kernelspec": {
      "display_name": "Python 3",
      "name": "python3"
    },
    "language_info": {
      "name": "python"
    }
  },
  "nbformat": 4,
  "nbformat_minor": 0
}
